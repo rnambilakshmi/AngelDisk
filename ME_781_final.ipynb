{
  "nbformat": 4,
  "nbformat_minor": 0,
  "metadata": {
    "colab": {
      "name": "ME 781.ipynb",
      "provenance": [],
      "collapsed_sections": [
        "sqdpZj2-O6wS",
        "B8M8JpsfyMpC",
        "aO9a8IBE1Ij6",
        "TMyrd_qwKIM3",
        "6YANKRBC9pIS"
      ],
      "toc_visible": true
    },
    "kernelspec": {
      "name": "python3",
      "display_name": "Python 3"
    }
  },
  "cells": [
    {
      "cell_type": "markdown",
      "metadata": {
        "id": "sqdpZj2-O6wS"
      },
      "source": [
        "# Installing Spark for Big Data"
      ]
    },
    {
      "cell_type": "code",
      "metadata": {
        "colab": {
          "base_uri": "https://localhost:8080/"
        },
        "id": "MPVumQMxO6Zk",
        "outputId": "03c0606f-4d51-40e4-af43-cdb7528f4047"
      },
      "source": [
        "# Install spark-related dependencies\n",
        "!apt-get install openjdk-8-jdk-headless\n",
        "!wget http://apache.osuosl.org/spark/spark-3.0.1/spark-3.0.1-bin-hadoop3.2.tgz\n",
        "!tar xf spark-3.0.1-bin-hadoop3.2.tgz\n",
        "\n",
        "!pip install -q findspark\n",
        "!pip install pyspark\n",
        "\n",
        "# Set up required environment variables\n",
        "import os\n",
        "os.environ[\"JAVA_HOME\"] = \"/usr/lib/jvm/java-8-openjdk-amd64\"\n",
        "os.environ[\"SPARK_HOME\"] = \"/content/spark-3.0.1-bin-hadoop3.2\""
      ],
      "execution_count": 10,
      "outputs": [
        {
          "output_type": "stream",
          "text": [
            "Reading package lists... Done\n",
            "Building dependency tree       \n",
            "Reading state information... Done\n",
            "openjdk-8-jdk-headless is already the newest version (8u275-b01-0ubuntu1~18.04).\n",
            "0 upgraded, 0 newly installed, 0 to remove and 14 not upgraded.\n",
            "Requirement already satisfied: pyspark in /usr/local/lib/python3.6/dist-packages (3.0.1)\n",
            "Requirement already satisfied: py4j==0.10.9 in /usr/local/lib/python3.6/dist-packages (from pyspark) (0.10.9)\n"
          ],
          "name": "stdout"
        }
      ]
    },
    {
      "cell_type": "markdown",
      "metadata": {
        "id": "B8M8JpsfyMpC"
      },
      "source": [
        "# Downloading Blackblaze data"
      ]
    },
    {
      "cell_type": "markdown",
      "metadata": {
        "id": "aO9a8IBE1Ij6"
      },
      "source": [
        "## Getting data for 2019 year"
      ]
    },
    {
      "cell_type": "code",
      "metadata": {
        "colab": {
          "base_uri": "https://localhost:8080/"
        },
        "id": "3RKNjRGM1Lqy",
        "outputId": "bd8ace44-1bec-4c2d-b6f9-8d2ab3a8632c"
      },
      "source": [
        "%%bash\n",
        "years=(\"2019\")\n",
        "quarter=(\"Q1\" \"Q2\" \"Q3\" \"Q4\")\n",
        "for yr in ${years[@]}\n",
        "do\n",
        "  for qt in ${quarter[@]}\n",
        "  do\n",
        "    wget https://f001.backblazeb2.com/file/Backblaze-Hard-Drive-Data/data_\"$qt\"_\"$yr\".zip -O data_\"$qt\"_\"$yr\".zip;\n",
        "  done \n",
        "done"
      ],
      "execution_count": 4,
      "outputs": [
        {
          "output_type": "stream",
          "text": [
            "IOPub data rate exceeded.\n",
            "The notebook server will temporarily stop sending output\n",
            "to the client in order to avoid crashing it.\n",
            "To change this limit, set the config variable\n",
            "`--NotebookApp.iopub_data_rate_limit`.\n",
            "\n",
            "Current values:\n",
            "NotebookApp.iopub_data_rate_limit=1000000.0 (bytes/sec)\n",
            "NotebookApp.rate_limit_window=3.0 (secs)\n",
            "\n"
          ],
          "name": "stderr"
        }
      ]
    },
    {
      "cell_type": "markdown",
      "metadata": {
        "id": "EeSGvXqtJ5FT"
      },
      "source": [
        "## Unzip and arrange the downloaded files"
      ]
    },
    {
      "cell_type": "code",
      "metadata": {
        "id": "XVT6qkkFChaq"
      },
      "source": [
        "%%capture\n",
        "!unzip /content/data_Q1_2019.zip \n",
        "!unzip /content/data_Q2_2019.zip \n",
        "!unzip /content/data_Q3_2019.zip \n",
        "!unzip /content/data_Q4_2019.zip "
      ],
      "execution_count": 5,
      "outputs": []
    },
    {
      "cell_type": "code",
      "metadata": {
        "colab": {
          "base_uri": "https://localhost:8080/"
        },
        "id": "2RKdxvNaDBJY",
        "outputId": "c307e46c-df77-4c86-e440-9480170efa54"
      },
      "source": [
        "print(\"Number of csv files in 2019 Q1:\", end=\" \")\n",
        "!ls /content/drive_stats_2019_Q1 | wc -l\n",
        "print(\"Number of csv files in 2019 Q2:\", end=\" \")\n",
        "!ls /content/data_Q2_2019/ | wc -l\n",
        "print(\"Number of csv files in 2019 Q3:\", end=\" \")\n",
        "!ls /content/data_Q3_2019/ | wc -l\n",
        "print(\"Number of csv files in 2019 Q4:\", end=\" \")\n",
        "!ls /content/data_Q4_2019/ | wc -l\n",
        "\n",
        "!mv /content/drive_stats_2019_Q1 /content/data_Q1_2019/\n",
        "\n",
        "folders = [\"/content/data_Q1_2019/\",\"/content/data_Q2_2019/\",\"/content/data_Q3_2019/\",\"/content/data_Q4_2019/\"]"
      ],
      "execution_count": 6,
      "outputs": [
        {
          "output_type": "stream",
          "text": [
            "Number of csv files in 2019 Q1: 90\n",
            "Number of csv files in 2019 Q2: 91\n",
            "Number of csv files in 2019 Q3: 92\n",
            "Number of csv files in 2019 Q4: 92\n"
          ],
          "name": "stdout"
        }
      ]
    },
    {
      "cell_type": "markdown",
      "metadata": {
        "id": "5h9YncwHRGsC"
      },
      "source": [
        "# Working on Data"
      ]
    },
    {
      "cell_type": "markdown",
      "metadata": {
        "id": "TMyrd_qwKIM3"
      },
      "source": [
        "## Loading PySpark and pandas library. <br>\n",
        "PySpark is used instead of pandas as the number of datapoints is too large (~40M)."
      ]
    },
    {
      "cell_type": "code",
      "metadata": {
        "id": "AYeXOLmPQnnM"
      },
      "source": [
        "# Tools we need to connect to the Spark server, load our data,\n",
        "# clean it and prepare it\n",
        "import pyspark\n",
        "from pyspark import SparkContext\n",
        "from pyspark.sql import SparkSession\n",
        "from pyspark.ml import Pipeline\n",
        "from pyspark.ml.classification import RandomForestClassifier\n",
        "from pyspark.ml.feature import IndexToString, StringIndexer, VectorIndexer, VectorAssembler, MinMaxScaler\n",
        "from pyspark.ml.evaluation import MulticlassClassificationEvaluator\n",
        "from pyspark.sql.functions import isnan, isnull, when, count, col, countDistinct, udf\n",
        "from pyspark.sql.types import DoubleType, IntegerType, DateType, LongType\n",
        "\n",
        "import pandas as pd\n",
        "\n",
        "# Set up constants\n",
        "APP_NAME = \"HDD failures\"\n",
        "SPARK_URL = \"local[*]\"\n",
        "\n",
        "sc = pyspark.SparkContext(appName = APP_NAME, master=SPARK_URL)\n",
        "spark = SparkSession(sc)"
      ],
      "execution_count": 11,
      "outputs": []
    },
    {
      "cell_type": "markdown",
      "metadata": {
        "id": "RtHGxErFiTqV"
      },
      "source": [
        "## Collecting data from csv"
      ]
    },
    {
      "cell_type": "code",
      "metadata": {
        "colab": {
          "base_uri": "https://localhost:8080/"
        },
        "id": "MCrVDWS2cfnt",
        "outputId": "1c5b0509-a5ad-4ac0-bccd-b9d5615251de"
      },
      "source": [
        "df = spark.read.format(\"csv\").option(\"header\", \"true\").load('./data_*/*.csv')\n",
        "%time print(f\"Total number of datapoints: {df.count()}\")"
      ],
      "execution_count": 12,
      "outputs": [
        {
          "output_type": "stream",
          "text": [
            "Total number of datapoints: 40737546\n",
            "CPU times: user 509 µs, sys: 0 ns, total: 509 µs\n",
            "Wall time: 460 µs\n"
          ],
          "name": "stdout"
        }
      ]
    },
    {
      "cell_type": "markdown",
      "metadata": {
        "id": "Qc2jVfyPLW31"
      },
      "source": [
        "### Remove useless columns from the dataframe"
      ]
    },
    {
      "cell_type": "code",
      "metadata": {
        "id": "NuTV4kK4k9G-"
      },
      "source": [
        "useful_features = ['date', 'serial_number', 'model', 'capacity_bytes', 'failure']\n",
        "\n",
        "import re\n",
        "r = re.compile(\".*raw\")\n",
        "newlist = list(filter(r.match, df.columns))\n",
        "\n",
        "useful_features = useful_features + newlist\n",
        "\n",
        "df = df[useful_features]"
      ],
      "execution_count": 13,
      "outputs": []
    },
    {
      "cell_type": "markdown",
      "metadata": {
        "id": "zZZFrcIKLsey"
      },
      "source": [
        "## Seeing modelwise count of HDD for further analysis"
      ]
    },
    {
      "cell_type": "code",
      "metadata": {
        "colab": {
          "base_uri": "https://localhost:8080/"
        },
        "id": "ViF4VtMQqGUU",
        "outputId": "4b9048d3-9b08-4d89-8b54-1dc8b4762b2e"
      },
      "source": [
        "%time df.groupBy(\"model\").count().sort(\"count\", ascending=False).show()"
      ],
      "execution_count": 14,
      "outputs": [
        {
          "output_type": "stream",
          "text": [
            "+--------------------+--------+\n",
            "|               model|   count|\n",
            "+--------------------+--------+\n",
            "|       ST12000NM0007|12721076|\n",
            "|         ST4000DM000| 7325582|\n",
            "|        ST8000NM0055| 5242891|\n",
            "|HGST HMS5C4040BLE640| 4674986|\n",
            "|         ST8000DM002| 3591167|\n",
            "|HGST HUH721212ALN604| 2848164|\n",
            "|HGST HMS5C4040ALE640| 1048376|\n",
            "| TOSHIBA MG07ACA14TA|  564829|\n",
            "|       ST10000NM0086|  437259|\n",
            "|         ST6000DX000|  379894|\n",
            "|HGST HUH728080ALE600|  368454|\n",
            "|HGST HUH721212ALE600|  327080|\n",
            "|       ST12000NM0008|  321275|\n",
            "|       ST500LM012 HN|  187707|\n",
            "|  TOSHIBA MQ01ABF050|  180251|\n",
            "| TOSHIBA MQ01ABF050M|  139205|\n",
            "|      WDC WD5000LPVX|   80053|\n",
            "|          ST500LM030|   79048|\n",
            "| TOSHIBA MD04ABA400V|   39788|\n",
            "|        WDC WD60EFRX|   31563|\n",
            "+--------------------+--------+\n",
            "only showing top 20 rows\n",
            "\n",
            "CPU times: user 34 ms, sys: 11.4 ms, total: 45.4 ms\n",
            "Wall time: 3min 50s\n"
          ],
          "name": "stdout"
        }
      ]
    },
    {
      "cell_type": "markdown",
      "metadata": {
        "id": "uOwuX2gI7h14"
      },
      "source": [
        "### Taking HDD model with most datapoints"
      ]
    },
    {
      "cell_type": "code",
      "metadata": {
        "id": "dtp-THvM7hc_"
      },
      "source": [
        "model_df = df.filter(df.model == \"ST12000NM0007\")\n",
        "positives_df = df.filter(df.failure == \"1\")"
      ],
      "execution_count": 15,
      "outputs": []
    },
    {
      "cell_type": "code",
      "metadata": {
        "colab": {
          "base_uri": "https://localhost:8080/"
        },
        "id": "i8KQNwxLas0G",
        "outputId": "e7ce1d54-c548-453c-8f7c-5c3b674a07c1"
      },
      "source": [
        "%%time \n",
        "print(f\"Total number of datapoints for this model: {model_df.count()}\")"
      ],
      "execution_count": 16,
      "outputs": [
        {
          "output_type": "stream",
          "text": [
            "Total number of datapoints for this model: 12721076\n",
            "CPU times: user 26.8 ms, sys: 14 ms, total: 40.7 ms\n",
            "Wall time: 3min 47s\n"
          ],
          "name": "stdout"
        }
      ]
    },
    {
      "cell_type": "code",
      "metadata": {
        "colab": {
          "base_uri": "https://localhost:8080/"
        },
        "id": "8lbU-r6ieAbY",
        "outputId": "66a9f8bf-a7e4-42fb-9a3e-93eaee816e6c"
      },
      "source": [
        "%%time\n",
        "print(f\"Total positives: {positives_df.count()}\")"
      ],
      "execution_count": 17,
      "outputs": [
        {
          "output_type": "stream",
          "text": [
            "Total positives: 2263\n",
            "CPU times: user 31 ms, sys: 8.41 ms, total: 39.4 ms\n",
            "Wall time: 3min 46s\n"
          ],
          "name": "stdout"
        }
      ]
    },
    {
      "cell_type": "markdown",
      "metadata": {
        "id": "2XY0kvXA9QY5"
      },
      "source": [
        "### See number of Null values in each column "
      ]
    },
    {
      "cell_type": "code",
      "metadata": {
        "colab": {
          "base_uri": "https://localhost:8080/"
        },
        "id": "9L5Vq8pQ8ZKE",
        "outputId": "565dc286-d8be-442d-8943-682eebfa0003"
      },
      "source": [
        "%time model_df.select([count(when(isnull(c), c)).alias(c) for c in model_df.columns]).show()"
      ],
      "execution_count": 18,
      "outputs": [
        {
          "output_type": "stream",
          "text": [
            "+----+-------------+-----+--------------+-------+-----------+-----------+-----------+-----------+-----------+-----------+-----------+-----------+------------+------------+------------+------------+------------+------------+------------+------------+------------+------------+------------+-------------+-------------+-------------+-------------+-------------+-------------+-------------+-------------+-------------+-------------+-------------+-------------+-------------+-------------+-------------+-------------+-------------+-------------+-------------+-------------+-------------+-------------+-------------+-------------+-------------+-------------+-------------+-------------+-------------+-------------+-------------+-------------+-------------+-------------+-------------+-------------+-------------+-------------+-------------+-------------+-------------+-------------+-------------+-------------+\n",
            "|date|serial_number|model|capacity_bytes|failure|smart_1_raw|smart_2_raw|smart_3_raw|smart_4_raw|smart_5_raw|smart_7_raw|smart_8_raw|smart_9_raw|smart_10_raw|smart_11_raw|smart_12_raw|smart_13_raw|smart_15_raw|smart_16_raw|smart_17_raw|smart_18_raw|smart_22_raw|smart_23_raw|smart_24_raw|smart_168_raw|smart_170_raw|smart_173_raw|smart_174_raw|smart_177_raw|smart_179_raw|smart_181_raw|smart_182_raw|smart_183_raw|smart_184_raw|smart_187_raw|smart_188_raw|smart_189_raw|smart_190_raw|smart_191_raw|smart_192_raw|smart_193_raw|smart_194_raw|smart_195_raw|smart_196_raw|smart_197_raw|smart_198_raw|smart_199_raw|smart_200_raw|smart_201_raw|smart_218_raw|smart_220_raw|smart_222_raw|smart_223_raw|smart_224_raw|smart_225_raw|smart_226_raw|smart_231_raw|smart_232_raw|smart_233_raw|smart_235_raw|smart_240_raw|smart_241_raw|smart_242_raw|smart_250_raw|smart_251_raw|smart_252_raw|smart_254_raw|smart_255_raw|\n",
            "+----+-------------+-----+--------------+-------+-----------+-----------+-----------+-----------+-----------+-----------+-----------+-----------+------------+------------+------------+------------+------------+------------+------------+------------+------------+------------+------------+-------------+-------------+-------------+-------------+-------------+-------------+-------------+-------------+-------------+-------------+-------------+-------------+-------------+-------------+-------------+-------------+-------------+-------------+-------------+-------------+-------------+-------------+-------------+-------------+-------------+-------------+-------------+-------------+-------------+-------------+-------------+-------------+-------------+-------------+-------------+-------------+-------------+-------------+-------------+-------------+-------------+-------------+-------------+-------------+\n",
            "|   0|            0|    0|             0|      0|       1622|   12721076|       1622|       1622|       1622|       1622|   12721076|       1622|        1622|    12721076|        1622|    12721076|    12721076|    12721076|    12721076|    12721076|    12721076|    12721076|    12721076|     12721076|     12721076|     12721076|     12721076|     12721076|     12721076|     12721076|     12721076|     12721076|      3396514|         1622|      9326184|      3396514|      9326184|      3396514|         1622|         1622|         1622|      9326184|      3396514|         1622|         1622|         1622|      9326184|     12721076|     12721076|     12721076|     12721076|     12721076|     12721076|     12721076|     12721076|     12721076|     12721076|     12721076|      3396514|         1622|         1622|      9326184|     12721076|     12721076|     12721076|     12721076|     12721076|\n",
            "+----+-------------+-----+--------------+-------+-----------+-----------+-----------+-----------+-----------+-----------+-----------+-----------+------------+------------+------------+------------+------------+------------+------------+------------+------------+------------+------------+-------------+-------------+-------------+-------------+-------------+-------------+-------------+-------------+-------------+-------------+-------------+-------------+-------------+-------------+-------------+-------------+-------------+-------------+-------------+-------------+-------------+-------------+-------------+-------------+-------------+-------------+-------------+-------------+-------------+-------------+-------------+-------------+-------------+-------------+-------------+-------------+-------------+-------------+-------------+-------------+-------------+-------------+-------------+-------------+\n",
            "\n",
            "CPU times: user 130 ms, sys: 22.7 ms, total: 152 ms\n",
            "Wall time: 4min 9s\n"
          ],
          "name": "stdout"
        }
      ]
    },
    {
      "cell_type": "markdown",
      "metadata": {
        "id": "yRYEg0iKAzRa"
      },
      "source": [
        "## Keep only useful coulmns and change their datatypes to intended ones"
      ]
    },
    {
      "cell_type": "code",
      "metadata": {
        "colab": {
          "base_uri": "https://localhost:8080/"
        },
        "id": "pOdwAhnI9VAB",
        "outputId": "24b98077-d8f7-4b96-a8ac-2331e772d903"
      },
      "source": [
        "cols_to_keep = ['date', 'serial_number', 'model', 'capacity_bytes', 'failure']\n",
        "good_smart = [1,3,4,5,7,9,10,12,187,192,193,194,197,198,199,240,241]\n",
        "cols_to_keep.extend([f'smart_{num}_raw' for num in good_smart])\n",
        "\n",
        "\n",
        "# Change datatype to desired one for entire df of same model\n",
        "model_df = model_df.select(cols_to_keep).dropna()\n",
        "\n",
        "for c in [f'smart_{num}_raw' for num in good_smart]:\n",
        "  model_df = model_df.withColumn(c, model_df[c].cast(LongType()))\n",
        "\n",
        "model_df = model_df.withColumn('capacity_bytes', model_df['capacity_bytes'].cast(LongType()))\n",
        "model_df = model_df.withColumn('failure', model_df['failure'].cast(IntegerType()))\n",
        "\n",
        "model_df.printSchema()\n",
        "\n",
        "# Change datatype to desired one for all the positive ones\n",
        "positives_df = positives_df.select(cols_to_keep).dropna()\n",
        "\n",
        "for c in [f'smart_{num}_raw' for num in good_smart]:\n",
        "  positives_df = positives_df.withColumn(c, positives_df[c].cast(LongType()))\n",
        "\n",
        "positives_df = positives_df.withColumn('capacity_bytes', positives_df['capacity_bytes'].cast(LongType()))\n",
        "positives_df = positives_df.withColumn('failure', positives_df['failure'].cast(IntegerType()))\n",
        "\n",
        "positives_df.printSchema()"
      ],
      "execution_count": 19,
      "outputs": [
        {
          "output_type": "stream",
          "text": [
            "root\n",
            " |-- date: string (nullable = true)\n",
            " |-- serial_number: string (nullable = true)\n",
            " |-- model: string (nullable = true)\n",
            " |-- capacity_bytes: long (nullable = true)\n",
            " |-- failure: integer (nullable = true)\n",
            " |-- smart_1_raw: long (nullable = true)\n",
            " |-- smart_3_raw: long (nullable = true)\n",
            " |-- smart_4_raw: long (nullable = true)\n",
            " |-- smart_5_raw: long (nullable = true)\n",
            " |-- smart_7_raw: long (nullable = true)\n",
            " |-- smart_9_raw: long (nullable = true)\n",
            " |-- smart_10_raw: long (nullable = true)\n",
            " |-- smart_12_raw: long (nullable = true)\n",
            " |-- smart_187_raw: long (nullable = true)\n",
            " |-- smart_192_raw: long (nullable = true)\n",
            " |-- smart_193_raw: long (nullable = true)\n",
            " |-- smart_194_raw: long (nullable = true)\n",
            " |-- smart_197_raw: long (nullable = true)\n",
            " |-- smart_198_raw: long (nullable = true)\n",
            " |-- smart_199_raw: long (nullable = true)\n",
            " |-- smart_240_raw: long (nullable = true)\n",
            " |-- smart_241_raw: long (nullable = true)\n",
            "\n",
            "root\n",
            " |-- date: string (nullable = true)\n",
            " |-- serial_number: string (nullable = true)\n",
            " |-- model: string (nullable = true)\n",
            " |-- capacity_bytes: long (nullable = true)\n",
            " |-- failure: integer (nullable = true)\n",
            " |-- smart_1_raw: long (nullable = true)\n",
            " |-- smart_3_raw: long (nullable = true)\n",
            " |-- smart_4_raw: long (nullable = true)\n",
            " |-- smart_5_raw: long (nullable = true)\n",
            " |-- smart_7_raw: long (nullable = true)\n",
            " |-- smart_9_raw: long (nullable = true)\n",
            " |-- smart_10_raw: long (nullable = true)\n",
            " |-- smart_12_raw: long (nullable = true)\n",
            " |-- smart_187_raw: long (nullable = true)\n",
            " |-- smart_192_raw: long (nullable = true)\n",
            " |-- smart_193_raw: long (nullable = true)\n",
            " |-- smart_194_raw: long (nullable = true)\n",
            " |-- smart_197_raw: long (nullable = true)\n",
            " |-- smart_198_raw: long (nullable = true)\n",
            " |-- smart_199_raw: long (nullable = true)\n",
            " |-- smart_240_raw: long (nullable = true)\n",
            " |-- smart_241_raw: long (nullable = true)\n",
            "\n"
          ],
          "name": "stdout"
        }
      ]
    },
    {
      "cell_type": "markdown",
      "metadata": {
        "id": "PcOK2K6OCdKW"
      },
      "source": [
        "### Confirming NaN removal"
      ]
    },
    {
      "cell_type": "code",
      "metadata": {
        "id": "hC1zYCVwCRTd",
        "colab": {
          "base_uri": "https://localhost:8080/"
        },
        "outputId": "f2be976a-b2bd-4f33-962a-f5f99157c501"
      },
      "source": [
        "%time model_df.select([count(when(isnull(c), c)).alias(c) for c in model_df.columns]).show()"
      ],
      "execution_count": 20,
      "outputs": [
        {
          "output_type": "stream",
          "text": [
            "+----+-------------+-----+--------------+-------+-----------+-----------+-----------+-----------+-----------+-----------+------------+------------+-------------+-------------+-------------+-------------+-------------+-------------+-------------+-------------+-------------+\n",
            "|date|serial_number|model|capacity_bytes|failure|smart_1_raw|smart_3_raw|smart_4_raw|smart_5_raw|smart_7_raw|smart_9_raw|smart_10_raw|smart_12_raw|smart_187_raw|smart_192_raw|smart_193_raw|smart_194_raw|smart_197_raw|smart_198_raw|smart_199_raw|smart_240_raw|smart_241_raw|\n",
            "+----+-------------+-----+--------------+-------+-----------+-----------+-----------+-----------+-----------+-----------+------------+------------+-------------+-------------+-------------+-------------+-------------+-------------+-------------+-------------+-------------+\n",
            "|   0|            0|    0|             0|      0|          0|          0|          0|          0|          0|          0|           0|           0|            0|            0|            0|            0|            0|            0|            0|            0|            0|\n",
            "+----+-------------+-----+--------------+-------+-----------+-----------+-----------+-----------+-----------+-----------+------------+------------+-------------+-------------+-------------+-------------+-------------+-------------+-------------+-------------+-------------+\n",
            "\n",
            "CPU times: user 58.1 ms, sys: 22.3 ms, total: 80.4 ms\n",
            "Wall time: 3min 55s\n"
          ],
          "name": "stdout"
        }
      ]
    },
    {
      "cell_type": "code",
      "metadata": {
        "id": "e08fLDx9SXt_",
        "colab": {
          "base_uri": "https://localhost:8080/"
        },
        "outputId": "f64c5db9-bd80-4588-e1b2-b0fb614d3c93"
      },
      "source": [
        "%%time \n",
        "print(f\"Total number of datapoints after data cleaning: {model_df.count()}\")"
      ],
      "execution_count": 21,
      "outputs": [
        {
          "output_type": "stream",
          "text": [
            "Total number of datapoints after data cleaning: 12719454\n",
            "CPU times: user 30.6 ms, sys: 11.4 ms, total: 42.1 ms\n",
            "Wall time: 3min 48s\n"
          ],
          "name": "stdout"
        }
      ]
    },
    {
      "cell_type": "markdown",
      "metadata": {
        "id": "LPH7Ekwqx7ZV"
      },
      "source": [
        "## Sampling data for faster computations "
      ]
    },
    {
      "cell_type": "code",
      "metadata": {
        "id": "zafqEvo1yabC",
        "colab": {
          "base_uri": "https://localhost:8080/"
        },
        "outputId": "ad884fb9-721c-4bbd-d4b4-4029735ac49d"
      },
      "source": [
        "%%time\n",
        "new_df = model_df.sample(0.01)\n",
        "new_df = new_df.union(positives_df).distinct() # Doing union to tackle the problem of class imbalance\n",
        "new_df_pd = new_df.toPandas() # Converting to pandas as PySpark operations are extremely slow on colab"
      ],
      "execution_count": 22,
      "outputs": [
        {
          "output_type": "stream",
          "text": [
            "CPU times: user 1.8 s, sys: 77.8 ms, total: 1.88 s\n",
            "Wall time: 7min 46s\n"
          ],
          "name": "stdout"
        }
      ]
    },
    {
      "cell_type": "code",
      "metadata": {
        "id": "658PIpvq0VWc",
        "colab": {
          "base_uri": "https://localhost:8080/",
          "height": 317
        },
        "outputId": "fb78582a-97a3-4260-fa84-5a492ec043bf"
      },
      "source": [
        "display(new_df_pd.describe())"
      ],
      "execution_count": 23,
      "outputs": [
        {
          "output_type": "display_data",
          "data": {
            "text/html": [
              "<div>\n",
              "<style scoped>\n",
              "    .dataframe tbody tr th:only-of-type {\n",
              "        vertical-align: middle;\n",
              "    }\n",
              "\n",
              "    .dataframe tbody tr th {\n",
              "        vertical-align: top;\n",
              "    }\n",
              "\n",
              "    .dataframe thead th {\n",
              "        text-align: right;\n",
              "    }\n",
              "</style>\n",
              "<table border=\"1\" class=\"dataframe\">\n",
              "  <thead>\n",
              "    <tr style=\"text-align: right;\">\n",
              "      <th></th>\n",
              "      <th>capacity_bytes</th>\n",
              "      <th>failure</th>\n",
              "      <th>smart_1_raw</th>\n",
              "      <th>smart_3_raw</th>\n",
              "      <th>smart_4_raw</th>\n",
              "      <th>smart_5_raw</th>\n",
              "      <th>smart_7_raw</th>\n",
              "      <th>smart_9_raw</th>\n",
              "      <th>smart_10_raw</th>\n",
              "      <th>smart_12_raw</th>\n",
              "      <th>smart_187_raw</th>\n",
              "      <th>smart_192_raw</th>\n",
              "      <th>smart_193_raw</th>\n",
              "      <th>smart_194_raw</th>\n",
              "      <th>smart_197_raw</th>\n",
              "      <th>smart_198_raw</th>\n",
              "      <th>smart_199_raw</th>\n",
              "      <th>smart_240_raw</th>\n",
              "      <th>smart_241_raw</th>\n",
              "    </tr>\n",
              "  </thead>\n",
              "  <tbody>\n",
              "    <tr>\n",
              "      <th>count</th>\n",
              "      <td>1.281560e+05</td>\n",
              "      <td>128156.000000</td>\n",
              "      <td>1.281560e+05</td>\n",
              "      <td>128156.0</td>\n",
              "      <td>128156.000000</td>\n",
              "      <td>128156.000000</td>\n",
              "      <td>1.281560e+05</td>\n",
              "      <td>128156.000000</td>\n",
              "      <td>128156.0</td>\n",
              "      <td>128156.000000</td>\n",
              "      <td>1.281560e+05</td>\n",
              "      <td>128156.000000</td>\n",
              "      <td>128156.000000</td>\n",
              "      <td>1.281560e+05</td>\n",
              "      <td>128156.000000</td>\n",
              "      <td>128156.000000</td>\n",
              "      <td>128156.00000</td>\n",
              "      <td>1.281560e+05</td>\n",
              "      <td>1.281560e+05</td>\n",
              "    </tr>\n",
              "    <tr>\n",
              "      <th>mean</th>\n",
              "      <td>1.198919e+13</td>\n",
              "      <td>0.010885</td>\n",
              "      <td>1.228114e+08</td>\n",
              "      <td>0.0</td>\n",
              "      <td>5.687576</td>\n",
              "      <td>79.226599</td>\n",
              "      <td>9.397551e+08</td>\n",
              "      <td>9934.945145</td>\n",
              "      <td>0.0</td>\n",
              "      <td>4.985970</td>\n",
              "      <td>9.675585e+07</td>\n",
              "      <td>983.425216</td>\n",
              "      <td>450.556025</td>\n",
              "      <td>9.001880e+07</td>\n",
              "      <td>0.580855</td>\n",
              "      <td>0.359780</td>\n",
              "      <td>0.13784</td>\n",
              "      <td>3.355398e+10</td>\n",
              "      <td>7.113426e+10</td>\n",
              "    </tr>\n",
              "    <tr>\n",
              "      <th>std</th>\n",
              "      <td>2.777126e+11</td>\n",
              "      <td>0.103763</td>\n",
              "      <td>7.042055e+07</td>\n",
              "      <td>0.0</td>\n",
              "      <td>20.193932</td>\n",
              "      <td>1382.114685</td>\n",
              "      <td>1.708436e+10</td>\n",
              "      <td>4774.240569</td>\n",
              "      <td>0.0</td>\n",
              "      <td>5.315554</td>\n",
              "      <td>3.124714e+09</td>\n",
              "      <td>1182.796236</td>\n",
              "      <td>1887.449941</td>\n",
              "      <td>8.114958e+07</td>\n",
              "      <td>32.572395</td>\n",
              "      <td>20.218375</td>\n",
              "      <td>13.90036</td>\n",
              "      <td>2.475180e+10</td>\n",
              "      <td>3.835930e+10</td>\n",
              "    </tr>\n",
              "    <tr>\n",
              "      <th>min</th>\n",
              "      <td>5.001079e+11</td>\n",
              "      <td>0.000000</td>\n",
              "      <td>1.024000e+03</td>\n",
              "      <td>0.0</td>\n",
              "      <td>1.000000</td>\n",
              "      <td>0.000000</td>\n",
              "      <td>1.320000e+02</td>\n",
              "      <td>0.000000</td>\n",
              "      <td>0.0</td>\n",
              "      <td>1.000000</td>\n",
              "      <td>0.000000e+00</td>\n",
              "      <td>0.000000</td>\n",
              "      <td>3.000000</td>\n",
              "      <td>1.600000e+01</td>\n",
              "      <td>0.000000</td>\n",
              "      <td>0.000000</td>\n",
              "      <td>0.00000</td>\n",
              "      <td>0.000000e+00</td>\n",
              "      <td>0.000000e+00</td>\n",
              "    </tr>\n",
              "    <tr>\n",
              "      <th>25%</th>\n",
              "      <td>1.200014e+13</td>\n",
              "      <td>0.000000</td>\n",
              "      <td>6.197024e+07</td>\n",
              "      <td>0.0</td>\n",
              "      <td>2.000000</td>\n",
              "      <td>0.000000</td>\n",
              "      <td>2.021877e+08</td>\n",
              "      <td>6420.000000</td>\n",
              "      <td>0.0</td>\n",
              "      <td>2.000000</td>\n",
              "      <td>0.000000e+00</td>\n",
              "      <td>274.000000</td>\n",
              "      <td>27.000000</td>\n",
              "      <td>3.600000e+01</td>\n",
              "      <td>0.000000</td>\n",
              "      <td>0.000000</td>\n",
              "      <td>0.00000</td>\n",
              "      <td>1.772900e+04</td>\n",
              "      <td>4.580346e+10</td>\n",
              "    </tr>\n",
              "    <tr>\n",
              "      <th>50%</th>\n",
              "      <td>1.200014e+13</td>\n",
              "      <td>0.000000</td>\n",
              "      <td>1.235818e+08</td>\n",
              "      <td>0.0</td>\n",
              "      <td>5.000000</td>\n",
              "      <td>0.000000</td>\n",
              "      <td>4.478398e+08</td>\n",
              "      <td>10328.000000</td>\n",
              "      <td>0.0</td>\n",
              "      <td>4.000000</td>\n",
              "      <td>0.000000e+00</td>\n",
              "      <td>641.000000</td>\n",
              "      <td>32.000000</td>\n",
              "      <td>7.884033e+07</td>\n",
              "      <td>0.000000</td>\n",
              "      <td>0.000000</td>\n",
              "      <td>0.00000</td>\n",
              "      <td>4.153601e+10</td>\n",
              "      <td>6.743642e+10</td>\n",
              "    </tr>\n",
              "    <tr>\n",
              "      <th>75%</th>\n",
              "      <td>1.200014e+13</td>\n",
              "      <td>0.000000</td>\n",
              "      <td>1.833806e+08</td>\n",
              "      <td>0.0</td>\n",
              "      <td>7.000000</td>\n",
              "      <td>0.000000</td>\n",
              "      <td>7.197137e+08</td>\n",
              "      <td>13561.000000</td>\n",
              "      <td>0.0</td>\n",
              "      <td>7.000000</td>\n",
              "      <td>0.000000e+00</td>\n",
              "      <td>1120.000000</td>\n",
              "      <td>539.000000</td>\n",
              "      <td>1.623121e+08</td>\n",
              "      <td>0.000000</td>\n",
              "      <td>0.000000</td>\n",
              "      <td>0.00000</td>\n",
              "      <td>5.430161e+10</td>\n",
              "      <td>9.782745e+10</td>\n",
              "    </tr>\n",
              "    <tr>\n",
              "      <th>max</th>\n",
              "      <td>1.200014e+13</td>\n",
              "      <td>1.000000</td>\n",
              "      <td>2.441396e+08</td>\n",
              "      <td>0.0</td>\n",
              "      <td>5403.000000</td>\n",
              "      <td>64928.000000</td>\n",
              "      <td>2.062573e+12</td>\n",
              "      <td>42189.000000</td>\n",
              "      <td>0.0</td>\n",
              "      <td>517.000000</td>\n",
              "      <td>4.209132e+11</td>\n",
              "      <td>14823.000000</td>\n",
              "      <td>240778.000000</td>\n",
              "      <td>2.441396e+08</td>\n",
              "      <td>5224.000000</td>\n",
              "      <td>3576.000000</td>\n",
              "      <td>3225.00000</td>\n",
              "      <td>2.036700e+11</td>\n",
              "      <td>2.499821e+11</td>\n",
              "    </tr>\n",
              "  </tbody>\n",
              "</table>\n",
              "</div>"
            ],
            "text/plain": [
              "       capacity_bytes        failure  ...  smart_240_raw  smart_241_raw\n",
              "count    1.281560e+05  128156.000000  ...   1.281560e+05   1.281560e+05\n",
              "mean     1.198919e+13       0.010885  ...   3.355398e+10   7.113426e+10\n",
              "std      2.777126e+11       0.103763  ...   2.475180e+10   3.835930e+10\n",
              "min      5.001079e+11       0.000000  ...   0.000000e+00   0.000000e+00\n",
              "25%      1.200014e+13       0.000000  ...   1.772900e+04   4.580346e+10\n",
              "50%      1.200014e+13       0.000000  ...   4.153601e+10   6.743642e+10\n",
              "75%      1.200014e+13       0.000000  ...   5.430161e+10   9.782745e+10\n",
              "max      1.200014e+13       1.000000  ...   2.036700e+11   2.499821e+11\n",
              "\n",
              "[8 rows x 19 columns]"
            ]
          },
          "metadata": {
            "tags": []
          }
        }
      ]
    },
    {
      "cell_type": "markdown",
      "metadata": {
        "id": "wLQcgDC4NKqT"
      },
      "source": [
        "## Scaling the SMART columns and removing useless SMART columns"
      ]
    },
    {
      "cell_type": "code",
      "metadata": {
        "id": "csjZRjrmEaBM",
        "colab": {
          "base_uri": "https://localhost:8080/",
          "height": 224
        },
        "outputId": "0bd9b2f4-6cb5-478d-8673-866793cd4488"
      },
      "source": [
        "# Removing smart3 and smart10 because they are all zeros\n",
        "new_df_pd.drop(columns=['smart_3_raw','smart_10_raw','date','model', 'serial_number','capacity_bytes'], axis=1, inplace=True)\n",
        "\n",
        "good_smart = [1,4,5,7,9,12,187,192,193,194,197,198,199,240,241]\n",
        "cols_to_norm =  [f'smart_{num}_raw' for num in good_smart]\n",
        "\n",
        "# Scale min max to 0-1 for better predictions\n",
        "new_df_pd[cols_to_norm] = new_df_pd[cols_to_norm].apply(lambda x: (x - x.min()) / (x.max() - x.min()))\n",
        "new_df_pd.sample(n=5)"
      ],
      "execution_count": 24,
      "outputs": [
        {
          "output_type": "execute_result",
          "data": {
            "text/html": [
              "<div>\n",
              "<style scoped>\n",
              "    .dataframe tbody tr th:only-of-type {\n",
              "        vertical-align: middle;\n",
              "    }\n",
              "\n",
              "    .dataframe tbody tr th {\n",
              "        vertical-align: top;\n",
              "    }\n",
              "\n",
              "    .dataframe thead th {\n",
              "        text-align: right;\n",
              "    }\n",
              "</style>\n",
              "<table border=\"1\" class=\"dataframe\">\n",
              "  <thead>\n",
              "    <tr style=\"text-align: right;\">\n",
              "      <th></th>\n",
              "      <th>failure</th>\n",
              "      <th>smart_1_raw</th>\n",
              "      <th>smart_4_raw</th>\n",
              "      <th>smart_5_raw</th>\n",
              "      <th>smart_7_raw</th>\n",
              "      <th>smart_9_raw</th>\n",
              "      <th>smart_12_raw</th>\n",
              "      <th>smart_187_raw</th>\n",
              "      <th>smart_192_raw</th>\n",
              "      <th>smart_193_raw</th>\n",
              "      <th>smart_194_raw</th>\n",
              "      <th>smart_197_raw</th>\n",
              "      <th>smart_198_raw</th>\n",
              "      <th>smart_199_raw</th>\n",
              "      <th>smart_240_raw</th>\n",
              "      <th>smart_241_raw</th>\n",
              "    </tr>\n",
              "  </thead>\n",
              "  <tbody>\n",
              "    <tr>\n",
              "      <th>24399</th>\n",
              "      <td>0</td>\n",
              "      <td>0.327639</td>\n",
              "      <td>0.000000</td>\n",
              "      <td>0.0</td>\n",
              "      <td>0.000043</td>\n",
              "      <td>0.196283</td>\n",
              "      <td>0.000000</td>\n",
              "      <td>0.0</td>\n",
              "      <td>0.007758</td>\n",
              "      <td>0.002106</td>\n",
              "      <td>6.553627e-08</td>\n",
              "      <td>0.0</td>\n",
              "      <td>0.0</td>\n",
              "      <td>0.0</td>\n",
              "      <td>4.013847e-08</td>\n",
              "      <td>0.171445</td>\n",
              "    </tr>\n",
              "    <tr>\n",
              "      <th>3465</th>\n",
              "      <td>0</td>\n",
              "      <td>0.402277</td>\n",
              "      <td>0.000000</td>\n",
              "      <td>0.0</td>\n",
              "      <td>0.000120</td>\n",
              "      <td>0.225367</td>\n",
              "      <td>0.000000</td>\n",
              "      <td>0.0</td>\n",
              "      <td>0.031977</td>\n",
              "      <td>0.000120</td>\n",
              "      <td>4.022796e-01</td>\n",
              "      <td>0.0</td>\n",
              "      <td>0.0</td>\n",
              "      <td>0.0</td>\n",
              "      <td>2.515002e-01</td>\n",
              "      <td>0.340447</td>\n",
              "    </tr>\n",
              "    <tr>\n",
              "      <th>96689</th>\n",
              "      <td>0</td>\n",
              "      <td>0.844221</td>\n",
              "      <td>0.000926</td>\n",
              "      <td>0.0</td>\n",
              "      <td>0.000122</td>\n",
              "      <td>0.446443</td>\n",
              "      <td>0.005814</td>\n",
              "      <td>0.0</td>\n",
              "      <td>0.017068</td>\n",
              "      <td>0.013365</td>\n",
              "      <td>6.144026e-08</td>\n",
              "      <td>0.0</td>\n",
              "      <td>0.0</td>\n",
              "      <td>0.0</td>\n",
              "      <td>8.623265e-08</td>\n",
              "      <td>0.264431</td>\n",
              "    </tr>\n",
              "    <tr>\n",
              "      <th>12060</th>\n",
              "      <td>0</td>\n",
              "      <td>0.709418</td>\n",
              "      <td>0.000185</td>\n",
              "      <td>0.0</td>\n",
              "      <td>0.000132</td>\n",
              "      <td>0.230913</td>\n",
              "      <td>0.000000</td>\n",
              "      <td>0.0</td>\n",
              "      <td>0.038993</td>\n",
              "      <td>0.000096</td>\n",
              "      <td>7.094193e-01</td>\n",
              "      <td>0.0</td>\n",
              "      <td>0.0</td>\n",
              "      <td>0.0</td>\n",
              "      <td>2.519928e-01</td>\n",
              "      <td>0.191898</td>\n",
              "    </tr>\n",
              "    <tr>\n",
              "      <th>68437</th>\n",
              "      <td>0</td>\n",
              "      <td>0.505774</td>\n",
              "      <td>0.001481</td>\n",
              "      <td>0.0</td>\n",
              "      <td>0.000147</td>\n",
              "      <td>0.399891</td>\n",
              "      <td>0.013566</td>\n",
              "      <td>0.0</td>\n",
              "      <td>0.015719</td>\n",
              "      <td>0.003343</td>\n",
              "      <td>3.276814e-08</td>\n",
              "      <td>0.0</td>\n",
              "      <td>0.0</td>\n",
              "      <td>0.0</td>\n",
              "      <td>8.232436e-08</td>\n",
              "      <td>0.286936</td>\n",
              "    </tr>\n",
              "  </tbody>\n",
              "</table>\n",
              "</div>"
            ],
            "text/plain": [
              "       failure  smart_1_raw  ...  smart_240_raw  smart_241_raw\n",
              "24399        0     0.327639  ...   4.013847e-08       0.171445\n",
              "3465         0     0.402277  ...   2.515002e-01       0.340447\n",
              "96689        0     0.844221  ...   8.623265e-08       0.264431\n",
              "12060        0     0.709418  ...   2.519928e-01       0.191898\n",
              "68437        0     0.505774  ...   8.232436e-08       0.286936\n",
              "\n",
              "[5 rows x 16 columns]"
            ]
          },
          "metadata": {
            "tags": []
          },
          "execution_count": 24
        }
      ]
    },
    {
      "cell_type": "markdown",
      "metadata": {
        "id": "iNKaMwQ_NzTI"
      },
      "source": [
        "### Final processed pandas dataframe"
      ]
    },
    {
      "cell_type": "code",
      "metadata": {
        "id": "O_OCnasr_C_4",
        "colab": {
          "base_uri": "https://localhost:8080/",
          "height": 317
        },
        "outputId": "e96114d6-a12f-4d02-c1f1-4a42f96cde52"
      },
      "source": [
        "display(new_df_pd.describe())"
      ],
      "execution_count": 25,
      "outputs": [
        {
          "output_type": "display_data",
          "data": {
            "text/html": [
              "<div>\n",
              "<style scoped>\n",
              "    .dataframe tbody tr th:only-of-type {\n",
              "        vertical-align: middle;\n",
              "    }\n",
              "\n",
              "    .dataframe tbody tr th {\n",
              "        vertical-align: top;\n",
              "    }\n",
              "\n",
              "    .dataframe thead th {\n",
              "        text-align: right;\n",
              "    }\n",
              "</style>\n",
              "<table border=\"1\" class=\"dataframe\">\n",
              "  <thead>\n",
              "    <tr style=\"text-align: right;\">\n",
              "      <th></th>\n",
              "      <th>failure</th>\n",
              "      <th>smart_1_raw</th>\n",
              "      <th>smart_4_raw</th>\n",
              "      <th>smart_5_raw</th>\n",
              "      <th>smart_7_raw</th>\n",
              "      <th>smart_9_raw</th>\n",
              "      <th>smart_12_raw</th>\n",
              "      <th>smart_187_raw</th>\n",
              "      <th>smart_192_raw</th>\n",
              "      <th>smart_193_raw</th>\n",
              "      <th>smart_194_raw</th>\n",
              "      <th>smart_197_raw</th>\n",
              "      <th>smart_198_raw</th>\n",
              "      <th>smart_199_raw</th>\n",
              "      <th>smart_240_raw</th>\n",
              "      <th>smart_241_raw</th>\n",
              "    </tr>\n",
              "  </thead>\n",
              "  <tbody>\n",
              "    <tr>\n",
              "      <th>count</th>\n",
              "      <td>128156.000000</td>\n",
              "      <td>128156.000000</td>\n",
              "      <td>128156.000000</td>\n",
              "      <td>128156.000000</td>\n",
              "      <td>128156.000000</td>\n",
              "      <td>128156.000000</td>\n",
              "      <td>128156.000000</td>\n",
              "      <td>128156.000000</td>\n",
              "      <td>128156.000000</td>\n",
              "      <td>128156.000000</td>\n",
              "      <td>1.281560e+05</td>\n",
              "      <td>128156.000000</td>\n",
              "      <td>128156.000000</td>\n",
              "      <td>128156.000000</td>\n",
              "      <td>1.281560e+05</td>\n",
              "      <td>128156.000000</td>\n",
              "    </tr>\n",
              "    <tr>\n",
              "      <th>mean</th>\n",
              "      <td>0.010885</td>\n",
              "      <td>0.503036</td>\n",
              "      <td>0.000868</td>\n",
              "      <td>0.001220</td>\n",
              "      <td>0.000456</td>\n",
              "      <td>0.235487</td>\n",
              "      <td>0.007725</td>\n",
              "      <td>0.000230</td>\n",
              "      <td>0.066345</td>\n",
              "      <td>0.001859</td>\n",
              "      <td>3.687185e-01</td>\n",
              "      <td>0.000111</td>\n",
              "      <td>0.000101</td>\n",
              "      <td>0.000043</td>\n",
              "      <td>1.647468e-01</td>\n",
              "      <td>0.284557</td>\n",
              "    </tr>\n",
              "    <tr>\n",
              "      <th>std</th>\n",
              "      <td>0.103763</td>\n",
              "      <td>0.288445</td>\n",
              "      <td>0.003738</td>\n",
              "      <td>0.021287</td>\n",
              "      <td>0.008283</td>\n",
              "      <td>0.113163</td>\n",
              "      <td>0.010301</td>\n",
              "      <td>0.007424</td>\n",
              "      <td>0.079795</td>\n",
              "      <td>0.007839</td>\n",
              "      <td>3.323901e-01</td>\n",
              "      <td>0.006235</td>\n",
              "      <td>0.005654</td>\n",
              "      <td>0.004310</td>\n",
              "      <td>1.215289e-01</td>\n",
              "      <td>0.153448</td>\n",
              "    </tr>\n",
              "    <tr>\n",
              "      <th>min</th>\n",
              "      <td>0.000000</td>\n",
              "      <td>0.000000</td>\n",
              "      <td>0.000000</td>\n",
              "      <td>0.000000</td>\n",
              "      <td>0.000000</td>\n",
              "      <td>0.000000</td>\n",
              "      <td>0.000000</td>\n",
              "      <td>0.000000</td>\n",
              "      <td>0.000000</td>\n",
              "      <td>0.000000</td>\n",
              "      <td>0.000000e+00</td>\n",
              "      <td>0.000000</td>\n",
              "      <td>0.000000</td>\n",
              "      <td>0.000000</td>\n",
              "      <td>0.000000e+00</td>\n",
              "      <td>0.000000</td>\n",
              "    </tr>\n",
              "    <tr>\n",
              "      <th>25%</th>\n",
              "      <td>0.000000</td>\n",
              "      <td>0.253828</td>\n",
              "      <td>0.000185</td>\n",
              "      <td>0.000000</td>\n",
              "      <td>0.000098</td>\n",
              "      <td>0.152172</td>\n",
              "      <td>0.001938</td>\n",
              "      <td>0.000000</td>\n",
              "      <td>0.018485</td>\n",
              "      <td>0.000100</td>\n",
              "      <td>8.192034e-08</td>\n",
              "      <td>0.000000</td>\n",
              "      <td>0.000000</td>\n",
              "      <td>0.000000</td>\n",
              "      <td>8.704769e-08</td>\n",
              "      <td>0.183227</td>\n",
              "    </tr>\n",
              "    <tr>\n",
              "      <th>50%</th>\n",
              "      <td>0.000000</td>\n",
              "      <td>0.506191</td>\n",
              "      <td>0.000740</td>\n",
              "      <td>0.000000</td>\n",
              "      <td>0.000217</td>\n",
              "      <td>0.244803</td>\n",
              "      <td>0.005814</td>\n",
              "      <td>0.000000</td>\n",
              "      <td>0.043244</td>\n",
              "      <td>0.000120</td>\n",
              "      <td>3.229313e-01</td>\n",
              "      <td>0.000000</td>\n",
              "      <td>0.000000</td>\n",
              "      <td>0.000000</td>\n",
              "      <td>2.039378e-01</td>\n",
              "      <td>0.269765</td>\n",
              "    </tr>\n",
              "    <tr>\n",
              "      <th>75%</th>\n",
              "      <td>0.000000</td>\n",
              "      <td>0.751129</td>\n",
              "      <td>0.001111</td>\n",
              "      <td>0.000000</td>\n",
              "      <td>0.000349</td>\n",
              "      <td>0.321434</td>\n",
              "      <td>0.011628</td>\n",
              "      <td>0.000000</td>\n",
              "      <td>0.075558</td>\n",
              "      <td>0.002226</td>\n",
              "      <td>6.648330e-01</td>\n",
              "      <td>0.000000</td>\n",
              "      <td>0.000000</td>\n",
              "      <td>0.000000</td>\n",
              "      <td>2.666157e-01</td>\n",
              "      <td>0.391338</td>\n",
              "    </tr>\n",
              "    <tr>\n",
              "      <th>max</th>\n",
              "      <td>1.000000</td>\n",
              "      <td>1.000000</td>\n",
              "      <td>1.000000</td>\n",
              "      <td>1.000000</td>\n",
              "      <td>1.000000</td>\n",
              "      <td>1.000000</td>\n",
              "      <td>1.000000</td>\n",
              "      <td>1.000000</td>\n",
              "      <td>1.000000</td>\n",
              "      <td>1.000000</td>\n",
              "      <td>1.000000e+00</td>\n",
              "      <td>1.000000</td>\n",
              "      <td>1.000000</td>\n",
              "      <td>1.000000</td>\n",
              "      <td>1.000000e+00</td>\n",
              "      <td>1.000000</td>\n",
              "    </tr>\n",
              "  </tbody>\n",
              "</table>\n",
              "</div>"
            ],
            "text/plain": [
              "             failure    smart_1_raw  ...  smart_240_raw  smart_241_raw\n",
              "count  128156.000000  128156.000000  ...   1.281560e+05  128156.000000\n",
              "mean        0.010885       0.503036  ...   1.647468e-01       0.284557\n",
              "std         0.103763       0.288445  ...   1.215289e-01       0.153448\n",
              "min         0.000000       0.000000  ...   0.000000e+00       0.000000\n",
              "25%         0.000000       0.253828  ...   8.704769e-08       0.183227\n",
              "50%         0.000000       0.506191  ...   2.039378e-01       0.269765\n",
              "75%         0.000000       0.751129  ...   2.666157e-01       0.391338\n",
              "max         1.000000       1.000000  ...   1.000000e+00       1.000000\n",
              "\n",
              "[8 rows x 16 columns]"
            ]
          },
          "metadata": {
            "tags": []
          }
        }
      ]
    },
    {
      "cell_type": "markdown",
      "metadata": {
        "id": "6YANKRBC9pIS"
      },
      "source": [
        "# Applying XGBoost for classification"
      ]
    },
    {
      "cell_type": "markdown",
      "metadata": {
        "id": "W6i0QfYjN9q7"
      },
      "source": [
        "## Importing XGB modules and making train, test dataframes for training and testing"
      ]
    },
    {
      "cell_type": "code",
      "metadata": {
        "id": "HUiYWIg19zKu"
      },
      "source": [
        "import xgboost as xgb\n",
        "from xgboost import XGBClassifier, plot_importance\n",
        "\n",
        "import pickle\n",
        "\n",
        "from sklearn.model_selection import KFold, train_test_split, GridSearchCV\n",
        "from sklearn.metrics import confusion_matrix, mean_absolute_error,accuracy_score, classification_report\n",
        "\n",
        "\n",
        "X = new_df_pd.drop(['failure'], axis=1).values\n",
        "y = new_df_pd['failure'].values\n",
        "\n",
        "x_train, x_test, y_train, y_test = train_test_split(X, y, test_size=0.3, random_state=123)"
      ],
      "execution_count": 26,
      "outputs": []
    },
    {
      "cell_type": "markdown",
      "metadata": {
        "id": "ebVzziQbOjLC"
      },
      "source": [
        "### Train and test dataset shapes"
      ]
    },
    {
      "cell_type": "code",
      "metadata": {
        "colab": {
          "base_uri": "https://localhost:8080/"
        },
        "id": "w6ci_oEQFh7K",
        "outputId": "dd181394-01f4-497b-e783-73a59ddb5acc"
      },
      "source": [
        "print(x_train.shape)\n",
        "print(x_test.shape)"
      ],
      "execution_count": 27,
      "outputs": [
        {
          "output_type": "stream",
          "text": [
            "(89709, 15)\n",
            "(38447, 15)\n"
          ],
          "name": "stdout"
        }
      ]
    },
    {
      "cell_type": "markdown",
      "metadata": {
        "id": "GGWRzOabOnuh"
      },
      "source": [
        "## Train and save XGB model"
      ]
    },
    {
      "cell_type": "code",
      "metadata": {
        "colab": {
          "base_uri": "https://localhost:8080/"
        },
        "id": "dGLQumHO-Q5D",
        "outputId": "9f35f2d7-dccf-4e4c-b445-92dbaf149a63"
      },
      "source": [
        "eval_set = [(x_test,y_test)]\n",
        "clf = XGBClassifier(objective ='reg:linear', \n",
        "                             max_depth = 3,\n",
        "                             silent = 1,\n",
        "                             learning_rate = 0.3,\n",
        "                             n_estimators = 200)\n",
        "\n",
        "clf.fit(x_train, y_train, early_stopping_rounds=10,eval_metric= 'logloss', eval_set=eval_set)\n",
        "pickle.dump(clf, open(\"xgb.pickle.dat\", \"wb\"))"
      ],
      "execution_count": 28,
      "outputs": [
        {
          "output_type": "stream",
          "text": [
            "[0]\tvalidation_0-logloss:0.437961\n",
            "Will train until validation_0-logloss hasn't improved in 10 rounds.\n",
            "[1]\tvalidation_0-logloss:0.292563\n",
            "[2]\tvalidation_0-logloss:0.202546\n",
            "[3]\tvalidation_0-logloss:0.144566\n",
            "[4]\tvalidation_0-logloss:0.106159\n",
            "[5]\tvalidation_0-logloss:0.080386\n",
            "[6]\tvalidation_0-logloss:0.062939\n",
            "[7]\tvalidation_0-logloss:0.050965\n",
            "[8]\tvalidation_0-logloss:0.042938\n",
            "[9]\tvalidation_0-logloss:0.03754\n",
            "[10]\tvalidation_0-logloss:0.033863\n",
            "[11]\tvalidation_0-logloss:0.031174\n",
            "[12]\tvalidation_0-logloss:0.029551\n",
            "[13]\tvalidation_0-logloss:0.028476\n",
            "[14]\tvalidation_0-logloss:0.027712\n",
            "[15]\tvalidation_0-logloss:0.027162\n",
            "[16]\tvalidation_0-logloss:0.026889\n",
            "[17]\tvalidation_0-logloss:0.026722\n",
            "[18]\tvalidation_0-logloss:0.026608\n",
            "[19]\tvalidation_0-logloss:0.026518\n",
            "[20]\tvalidation_0-logloss:0.026403\n",
            "[21]\tvalidation_0-logloss:0.026409\n",
            "[22]\tvalidation_0-logloss:0.02636\n",
            "[23]\tvalidation_0-logloss:0.026326\n",
            "[24]\tvalidation_0-logloss:0.02632\n",
            "[25]\tvalidation_0-logloss:0.026296\n",
            "[26]\tvalidation_0-logloss:0.026336\n",
            "[27]\tvalidation_0-logloss:0.026368\n",
            "[28]\tvalidation_0-logloss:0.026373\n",
            "[29]\tvalidation_0-logloss:0.026366\n",
            "[30]\tvalidation_0-logloss:0.026372\n",
            "[31]\tvalidation_0-logloss:0.02637\n",
            "[32]\tvalidation_0-logloss:0.02635\n",
            "[33]\tvalidation_0-logloss:0.026283\n",
            "[34]\tvalidation_0-logloss:0.026271\n",
            "[35]\tvalidation_0-logloss:0.026274\n",
            "[36]\tvalidation_0-logloss:0.026278\n",
            "[37]\tvalidation_0-logloss:0.026287\n",
            "[38]\tvalidation_0-logloss:0.02628\n",
            "[39]\tvalidation_0-logloss:0.026291\n",
            "[40]\tvalidation_0-logloss:0.02626\n",
            "[41]\tvalidation_0-logloss:0.026245\n",
            "[42]\tvalidation_0-logloss:0.026286\n",
            "[43]\tvalidation_0-logloss:0.026274\n",
            "[44]\tvalidation_0-logloss:0.026986\n",
            "[45]\tvalidation_0-logloss:0.026975\n",
            "[46]\tvalidation_0-logloss:0.02696\n",
            "[47]\tvalidation_0-logloss:0.026964\n",
            "[48]\tvalidation_0-logloss:0.026971\n",
            "[49]\tvalidation_0-logloss:0.026974\n",
            "[50]\tvalidation_0-logloss:0.026986\n",
            "[51]\tvalidation_0-logloss:0.026995\n",
            "Stopping. Best iteration:\n",
            "[41]\tvalidation_0-logloss:0.026245\n",
            "\n"
          ],
          "name": "stdout"
        }
      ]
    },
    {
      "cell_type": "markdown",
      "metadata": {
        "id": "PMx9yCLiOsBs"
      },
      "source": [
        "## Importing XGB model and performing predictions on testing data"
      ]
    },
    {
      "cell_type": "code",
      "metadata": {
        "colab": {
          "base_uri": "https://localhost:8080/"
        },
        "id": "laoPymQvyIG_",
        "outputId": "4816edd1-5798-4fba-9cb2-cfb7b2bf3ea2"
      },
      "source": [
        "clf = pickle.load(open(\"xgb.pickle.dat\", \"rb\"))\n",
        "y_pred = clf.predict(x_test)\n",
        "print(\"Classification Report: \\n\", classification_report(y_test, y_pred))\n",
        "print(\"Confusion Matrix: \\n\", confusion_matrix(y_test, y_pred))\n",
        "accuracy = accuracy_score(y_test, y_pred)\n",
        "print(\"\\nAccuracy\",accuracy)"
      ],
      "execution_count": 29,
      "outputs": [
        {
          "output_type": "stream",
          "text": [
            "Classification Report: \n",
            "               precision    recall  f1-score   support\n",
            "\n",
            "           0       0.99      1.00      1.00     38051\n",
            "           1       0.71      0.40      0.51       396\n",
            "\n",
            "    accuracy                           0.99     38447\n",
            "   macro avg       0.85      0.70      0.76     38447\n",
            "weighted avg       0.99      0.99      0.99     38447\n",
            "\n",
            "Confusion Matrix: \n",
            " [[37985    66]\n",
            " [  236   160]]\n",
            "\n",
            "Accuracy 0.9921450308216506\n"
          ],
          "name": "stdout"
        }
      ]
    },
    {
      "cell_type": "markdown",
      "metadata": {
        "id": "EsQOYnVqO-V2"
      },
      "source": [
        "### Plotting feature importance. We can observe that SMART5 has largest correlation with failure of HDD"
      ]
    },
    {
      "cell_type": "code",
      "metadata": {
        "colab": {
          "base_uri": "https://localhost:8080/",
          "height": 318
        },
        "id": "4SY-MAJK-tem",
        "outputId": "93839224-bb76-405d-d83f-c37854e42e29"
      },
      "source": [
        "import seaborn as sns\n",
        "import matplotlib.pyplot as plt\n",
        "\n",
        "sns.set(font_scale = 1.5)\n",
        "sns.set_style('white')\n",
        "\n",
        "plot_importance(clf,height=0.5)\n",
        "plt.show()"
      ],
      "execution_count": 30,
      "outputs": [
        {
          "output_type": "display_data",
          "data": {
            "image/png": "[encoded data removed]",
            "text/plain": [
              "<Figure size 432x288 with 1 Axes>"
            ]
          },
          "metadata": {
            "tags": []
          }
        }
      ]
    },
    {
      "cell_type": "markdown",
      "metadata": {
        "id": "YUusvM8edcSp"
      },
      "source": [
        "# Applying Neural Network for classification"
      ]
    },
    {
      "cell_type": "code",
      "metadata": {
        "id": "GeDyqFpHvRSj"
      },
      "source": [
        "from keras.models import Sequential\n",
        "from keras.layers import Dense\n",
        "from sklearn.model_selection import cross_val_score\n",
        "from sklearn.model_selection import KFold\n",
        "from keras.layers.core import Flatten\n",
        "from keras.callbacks import EarlyStopping\n",
        "from keras.models import load_model, save_model\n",
        "import keras\n",
        "import numpy as np"
      ],
      "execution_count": 31,
      "outputs": []
    },
    {
      "cell_type": "markdown",
      "metadata": {
        "id": "9kvExS0_PVBC"
      },
      "source": [
        "## Making model and deciding metrics for evaluation"
      ]
    },
    {
      "cell_type": "code",
      "metadata": {
        "id": "TuLfJhdGAgze"
      },
      "source": [
        "METRICS = [ \n",
        "    keras.metrics.BinaryAccuracy(name='accuracy'),\n",
        "    keras.metrics.Precision(name='precision'),\n",
        "    keras.metrics.Recall(name='recall'),\n",
        "    keras.metrics.AUC(name='auc'),\n",
        "]\n",
        "\n",
        "def make_model(metrics=METRICS, output_bias=None):\n",
        "  if output_bias is not None:\n",
        "    output_bias = keras.initializers.Constant(output_bias)\n",
        "  model = keras.Sequential([\n",
        "      keras.layers.Dense(32, input_dim=15, activation='relu'),\n",
        "      keras.layers.Dense(16, activation='relu'),\n",
        "      keras.layers.Dropout(0.2),\n",
        "      keras.layers.Dense(8, activation='relu'),\n",
        "      keras.layers.Dropout(0.5),\n",
        "      keras.layers.Dense(1, activation='sigmoid',\n",
        "                         bias_initializer=output_bias),\n",
        "  ])\n",
        "\n",
        "  model.compile(\n",
        "      optimizer=keras.optimizers.Adam(lr=1e-3),\n",
        "      loss=keras.losses.BinaryCrossentropy(),\n",
        "      metrics=metrics)\n",
        "\n",
        "  return model"
      ],
      "execution_count": 32,
      "outputs": []
    },
    {
      "cell_type": "markdown",
      "metadata": {
        "id": "1dVJ3ko_PbHn"
      },
      "source": [
        "## Finding initial bias to tackle class imbalance"
      ]
    },
    {
      "cell_type": "code",
      "metadata": {
        "colab": {
          "base_uri": "https://localhost:8080/"
        },
        "id": "NewFj9DWBWGU",
        "outputId": "883d2644-d1f5-4754-aba6-4a59af42ece9"
      },
      "source": [
        "#Find Bias\n",
        "new_df_pd['failure'].value_counts()"
      ],
      "execution_count": 33,
      "outputs": [
        {
          "output_type": "execute_result",
          "data": {
            "text/plain": [
              "0    126761\n",
              "1      1395\n",
              "Name: failure, dtype: int64"
            ]
          },
          "metadata": {
            "tags": []
          },
          "execution_count": 33
        }
      ]
    },
    {
      "cell_type": "code",
      "metadata": {
        "id": "X9kyaOW7B0n1"
      },
      "source": [
        "neg = 126724\n",
        "pos = 1395\n",
        "initial_bias = np.log([pos/neg])"
      ],
      "execution_count": 34,
      "outputs": []
    },
    {
      "cell_type": "markdown",
      "metadata": {
        "id": "vgzUYYCjPnLp"
      },
      "source": [
        "## Making the model"
      ]
    },
    {
      "cell_type": "code",
      "metadata": {
        "colab": {
          "base_uri": "https://localhost:8080/"
        },
        "id": "gzuYfTm4dh7r",
        "outputId": "8d253071-1d12-48b4-ae6c-aa96a266747c"
      },
      "source": [
        "model = make_model(output_bias=initial_bias)\n",
        "\n",
        "early_stopping = EarlyStopping(\n",
        "    monitor='val_recall', \n",
        "    verbose=1,\n",
        "    patience=10,\n",
        "    mode='max',\n",
        "    restore_best_weights=True)\n",
        "\n",
        "print(model.summary())\n",
        "print(x_train.shape[1])\n",
        "print(y_train.shape)"
      ],
      "execution_count": 35,
      "outputs": [
        {
          "output_type": "stream",
          "text": [
            "Model: \"sequential\"\n",
            "_________________________________________________________________\n",
            "Layer (type)                 Output Shape              Param #   \n",
            "=================================================================\n",
            "dense (Dense)                (None, 32)                512       \n",
            "_________________________________________________________________\n",
            "dense_1 (Dense)              (None, 16)                528       \n",
            "_________________________________________________________________\n",
            "dropout (Dropout)            (None, 16)                0         \n",
            "_________________________________________________________________\n",
            "dense_2 (Dense)              (None, 8)                 136       \n",
            "_________________________________________________________________\n",
            "dropout_1 (Dropout)          (None, 8)                 0         \n",
            "_________________________________________________________________\n",
            "dense_3 (Dense)              (None, 1)                 9         \n",
            "=================================================================\n",
            "Total params: 1,185\n",
            "Trainable params: 1,185\n",
            "Non-trainable params: 0\n",
            "_________________________________________________________________\n",
            "None\n",
            "15\n",
            "(89709,)\n"
          ],
          "name": "stdout"
        }
      ]
    },
    {
      "cell_type": "markdown",
      "metadata": {
        "id": "G-VwW8XOPzSJ"
      },
      "source": [
        "## Making validation set and training the model"
      ]
    },
    {
      "cell_type": "code",
      "metadata": {
        "colab": {
          "base_uri": "https://localhost:8080/"
        },
        "id": "KVSK4NN3wNxm",
        "outputId": "a20ba4b2-942f-4bf8-89f1-3dc6438f5971"
      },
      "source": [
        "x_trn, x_val, y_trn, y_val = train_test_split(x_train, y_train, test_size=0.2)\n",
        "\n",
        "training_history = model.fit(x_trn, y_trn, validation_data=(x_val, y_val), epochs=500, batch_size=256, callbacks=[early_stopping])\n",
        "save_model(model, 'keras_model.h5')"
      ],
      "execution_count": 37,
      "outputs": [
        {
          "output_type": "stream",
          "text": [
            "Epoch 1/500\n",
            "281/281 [==============================] - 1s 5ms/step - loss: 0.0607 - accuracy: 0.9887 - precision: 0.0000e+00 - recall: 0.0000e+00 - auc: 0.5764 - val_loss: 0.0560 - val_accuracy: 0.9894 - val_precision: 0.0000e+00 - val_recall: 0.0000e+00 - val_auc: 0.7005\n",
            "Epoch 2/500\n",
            "281/281 [==============================] - 1s 3ms/step - loss: 0.0553 - accuracy: 0.9889 - precision: 0.7241 - recall: 0.0260 - auc: 0.6960 - val_loss: 0.0498 - val_accuracy: 0.9894 - val_precision: 0.5000 - val_recall: 0.0263 - val_auc: 0.7006\n",
            "Epoch 3/500\n",
            "281/281 [==============================] - 1s 3ms/step - loss: 0.0498 - accuracy: 0.9900 - precision: 0.8450 - recall: 0.1347 - auc: 0.7359 - val_loss: 0.0472 - val_accuracy: 0.9899 - val_precision: 0.6538 - val_recall: 0.0895 - val_auc: 0.7287\n",
            "Epoch 4/500\n",
            "281/281 [==============================] - 1s 3ms/step - loss: 0.0489 - accuracy: 0.9901 - precision: 0.7941 - recall: 0.1669 - auc: 0.7587 - val_loss: 0.0454 - val_accuracy: 0.9906 - val_precision: 0.7500 - val_recall: 0.1737 - val_auc: 0.7684\n",
            "Epoch 5/500\n",
            "281/281 [==============================] - 1s 3ms/step - loss: 0.0484 - accuracy: 0.9902 - precision: 0.7749 - recall: 0.1829 - auc: 0.7481 - val_loss: 0.0446 - val_accuracy: 0.9906 - val_precision: 0.7292 - val_recall: 0.1842 - val_auc: 0.7755\n",
            "Epoch 6/500\n",
            "281/281 [==============================] - 1s 3ms/step - loss: 0.0469 - accuracy: 0.9904 - precision: 0.7885 - recall: 0.2027 - auc: 0.7780 - val_loss: 0.0441 - val_accuracy: 0.9906 - val_precision: 0.7391 - val_recall: 0.1789 - val_auc: 0.7666\n",
            "Epoch 7/500\n",
            "281/281 [==============================] - 1s 3ms/step - loss: 0.0464 - accuracy: 0.9906 - precision: 0.7845 - recall: 0.2250 - auc: 0.7677 - val_loss: 0.0441 - val_accuracy: 0.9907 - val_precision: 0.7805 - val_recall: 0.1684 - val_auc: 0.7526\n",
            "Epoch 8/500\n",
            "281/281 [==============================] - 1s 3ms/step - loss: 0.0463 - accuracy: 0.9904 - precision: 0.7814 - recall: 0.2077 - auc: 0.7740 - val_loss: 0.0418 - val_accuracy: 0.9909 - val_precision: 0.7755 - val_recall: 0.2000 - val_auc: 0.7809\n",
            "Epoch 9/500\n",
            "281/281 [==============================] - 1s 3ms/step - loss: 0.0461 - accuracy: 0.9903 - precision: 0.7628 - recall: 0.2027 - auc: 0.7824 - val_loss: 0.0409 - val_accuracy: 0.9911 - val_precision: 0.7778 - val_recall: 0.2211 - val_auc: 0.8017\n",
            "Epoch 10/500\n",
            "281/281 [==============================] - 1s 3ms/step - loss: 0.0445 - accuracy: 0.9907 - precision: 0.7888 - recall: 0.2447 - auc: 0.7922 - val_loss: 0.0407 - val_accuracy: 0.9910 - val_precision: 0.7736 - val_recall: 0.2158 - val_auc: 0.8037\n",
            "Epoch 11/500\n",
            "281/281 [==============================] - 1s 3ms/step - loss: 0.0447 - accuracy: 0.9905 - precision: 0.7699 - recall: 0.2274 - auc: 0.7954 - val_loss: 0.0397 - val_accuracy: 0.9912 - val_precision: 0.8235 - val_recall: 0.2211 - val_auc: 0.8024\n",
            "Epoch 12/500\n",
            "281/281 [==============================] - 1s 3ms/step - loss: 0.0445 - accuracy: 0.9908 - precision: 0.7882 - recall: 0.2485 - auc: 0.7975 - val_loss: 0.0394 - val_accuracy: 0.9911 - val_precision: 0.8298 - val_recall: 0.2053 - val_auc: 0.8071\n",
            "Epoch 13/500\n",
            "281/281 [==============================] - 1s 3ms/step - loss: 0.0429 - accuracy: 0.9907 - precision: 0.7843 - recall: 0.2472 - auc: 0.8007 - val_loss: 0.0385 - val_accuracy: 0.9912 - val_precision: 0.7619 - val_recall: 0.2526 - val_auc: 0.8044\n",
            "Epoch 14/500\n",
            "281/281 [==============================] - 1s 3ms/step - loss: 0.0428 - accuracy: 0.9909 - precision: 0.7891 - recall: 0.2682 - auc: 0.8052 - val_loss: 0.0378 - val_accuracy: 0.9912 - val_precision: 0.7667 - val_recall: 0.2421 - val_auc: 0.8217\n",
            "Epoch 15/500\n",
            "281/281 [==============================] - 1s 3ms/step - loss: 0.0427 - accuracy: 0.9907 - precision: 0.7658 - recall: 0.2546 - auc: 0.8220 - val_loss: 0.0373 - val_accuracy: 0.9913 - val_precision: 0.7656 - val_recall: 0.2579 - val_auc: 0.8424\n",
            "Epoch 16/500\n",
            "281/281 [==============================] - 1s 3ms/step - loss: 0.0417 - accuracy: 0.9910 - precision: 0.7860 - recall: 0.2769 - auc: 0.8209 - val_loss: 0.0375 - val_accuracy: 0.9914 - val_precision: 0.7571 - val_recall: 0.2789 - val_auc: 0.8593\n",
            "Epoch 17/500\n",
            "281/281 [==============================] - 1s 3ms/step - loss: 0.0409 - accuracy: 0.9910 - precision: 0.7571 - recall: 0.2967 - auc: 0.8292 - val_loss: 0.0378 - val_accuracy: 0.9912 - val_precision: 0.8235 - val_recall: 0.2211 - val_auc: 0.8571\n",
            "Epoch 18/500\n",
            "281/281 [==============================] - 1s 3ms/step - loss: 0.0418 - accuracy: 0.9907 - precision: 0.7456 - recall: 0.2608 - auc: 0.8207 - val_loss: 0.0365 - val_accuracy: 0.9915 - val_precision: 0.7761 - val_recall: 0.2737 - val_auc: 0.8751\n",
            "Epoch 19/500\n",
            "281/281 [==============================] - 1s 3ms/step - loss: 0.0413 - accuracy: 0.9909 - precision: 0.7558 - recall: 0.2831 - auc: 0.8242 - val_loss: 0.0366 - val_accuracy: 0.9915 - val_precision: 0.8033 - val_recall: 0.2579 - val_auc: 0.8624\n",
            "Epoch 20/500\n",
            "281/281 [==============================] - 1s 3ms/step - loss: 0.0406 - accuracy: 0.9910 - precision: 0.7622 - recall: 0.2892 - auc: 0.8294 - val_loss: 0.0359 - val_accuracy: 0.9915 - val_precision: 0.8393 - val_recall: 0.2474 - val_auc: 0.8708\n",
            "Epoch 21/500\n",
            "281/281 [==============================] - 1s 3ms/step - loss: 0.0399 - accuracy: 0.9909 - precision: 0.7576 - recall: 0.2781 - auc: 0.8420 - val_loss: 0.0349 - val_accuracy: 0.9917 - val_precision: 0.7595 - val_recall: 0.3158 - val_auc: 0.8825\n",
            "Epoch 22/500\n",
            "281/281 [==============================] - 1s 3ms/step - loss: 0.0402 - accuracy: 0.9910 - precision: 0.7630 - recall: 0.2905 - auc: 0.8335 - val_loss: 0.0366 - val_accuracy: 0.9914 - val_precision: 0.8431 - val_recall: 0.2263 - val_auc: 0.8627\n",
            "Epoch 23/500\n",
            "281/281 [==============================] - 1s 3ms/step - loss: 0.0409 - accuracy: 0.9909 - precision: 0.7542 - recall: 0.2806 - auc: 0.8273 - val_loss: 0.0361 - val_accuracy: 0.9914 - val_precision: 0.8103 - val_recall: 0.2474 - val_auc: 0.8711\n",
            "Epoch 24/500\n",
            "281/281 [==============================] - 1s 3ms/step - loss: 0.0401 - accuracy: 0.9912 - precision: 0.7954 - recall: 0.2979 - auc: 0.8367 - val_loss: 0.0354 - val_accuracy: 0.9916 - val_precision: 0.7941 - val_recall: 0.2842 - val_auc: 0.8943\n",
            "Epoch 25/500\n",
            "281/281 [==============================] - 1s 3ms/step - loss: 0.0394 - accuracy: 0.9910 - precision: 0.7556 - recall: 0.2942 - auc: 0.8423 - val_loss: 0.0346 - val_accuracy: 0.9916 - val_precision: 0.7857 - val_recall: 0.2895 - val_auc: 0.8716\n",
            "Epoch 26/500\n",
            "281/281 [==============================] - 1s 3ms/step - loss: 0.0403 - accuracy: 0.9909 - precision: 0.7492 - recall: 0.2917 - auc: 0.8260 - val_loss: 0.0343 - val_accuracy: 0.9914 - val_precision: 0.8103 - val_recall: 0.2474 - val_auc: 0.8877\n",
            "Epoch 27/500\n",
            "281/281 [==============================] - 1s 3ms/step - loss: 0.0392 - accuracy: 0.9907 - precision: 0.7152 - recall: 0.2855 - auc: 0.8465 - val_loss: 0.0361 - val_accuracy: 0.9911 - val_precision: 0.8750 - val_recall: 0.1842 - val_auc: 0.8687\n",
            "Epoch 28/500\n",
            "281/281 [==============================] - 1s 3ms/step - loss: 0.0385 - accuracy: 0.9910 - precision: 0.7427 - recall: 0.3140 - auc: 0.8484 - val_loss: 0.0339 - val_accuracy: 0.9914 - val_precision: 0.8214 - val_recall: 0.2421 - val_auc: 0.8814\n",
            "Epoch 29/500\n",
            "281/281 [==============================] - 1s 3ms/step - loss: 0.0385 - accuracy: 0.9912 - precision: 0.7640 - recall: 0.3201 - auc: 0.8476 - val_loss: 0.0333 - val_accuracy: 0.9914 - val_precision: 0.7903 - val_recall: 0.2579 - val_auc: 0.8837\n",
            "Epoch 30/500\n",
            "281/281 [==============================] - 1s 3ms/step - loss: 0.0393 - accuracy: 0.9907 - precision: 0.7236 - recall: 0.2880 - auc: 0.8469 - val_loss: 0.0331 - val_accuracy: 0.9915 - val_precision: 0.7879 - val_recall: 0.2737 - val_auc: 0.8900\n",
            "Epoch 31/500\n",
            "267/281 [===========================>..] - ETA: 0s - loss: 0.0390 - accuracy: 0.9909 - precision: 0.7342 - recall: 0.2885 - auc: 0.8503Restoring model weights from the end of the best epoch.\n",
            "281/281 [==============================] - 1s 3ms/step - loss: 0.0394 - accuracy: 0.9908 - precision: 0.7358 - recall: 0.2892 - auc: 0.8452 - val_loss: 0.0340 - val_accuracy: 0.9914 - val_precision: 0.7966 - val_recall: 0.2474 - val_auc: 0.8904\n",
            "Epoch 00031: early stopping\n"
          ],
          "name": "stdout"
        }
      ]
    },
    {
      "cell_type": "code",
      "metadata": {
        "colab": {
          "base_uri": "https://localhost:8080/",
          "height": 1000
        },
        "id": "wUtjllrcnG_N",
        "outputId": "98cd204c-d75a-4188-f0c4-d52dbf4780ab"
      },
      "source": [
        "# list all data in history\n",
        "print(training_history.history.keys())\n",
        "keys = ['loss', 'accuracy', 'precision', 'recall', 'auc']\n",
        "\n",
        "for key in keys:\n",
        "  # summarize history for key\n",
        "  plt.plot(training_history.history[key])\n",
        "  plt.plot(training_history.history[f'val_{key}'])\n",
        "  plt.title(f'model {key}')\n",
        "  plt.ylabel(key)\n",
        "  plt.xlabel('epoch')\n",
        "  plt.legend(['train', 'test'], loc='upper left')\n",
        "  plt.show()"
      ],
      "execution_count": 57,
      "outputs": [
        {
          "output_type": "stream",
          "text": [
            "dict_keys(['loss', 'accuracy', 'precision', 'recall', 'auc', 'val_loss', 'val_accuracy', 'val_precision', 'val_recall', 'val_auc'])\n"
          ],
          "name": "stdout"
        },
        {
          "output_type": "display_data",
          "data": {
            "image/png": "[encoded data removed]",
            "text/plain": [
              "<Figure size 432x288 with 1 Axes>"
            ]
          },
          "metadata": {
            "tags": []
          }
        },
        {
          "output_type": "display_data",
          "data": {
            "image/png": "[encoded data removed]",
            "text/plain": [
              "<Figure size 432x288 with 1 Axes>"
            ]
          },
          "metadata": {
            "tags": []
          }
        },
        {
          "output_type": "display_data",
          "data": {
            "image/png": "[encoded data removed]",
            "text/plain": [
              "<Figure size 432x288 with 1 Axes>"
            ]
          },
          "metadata": {
            "tags": []
          }
        },
        {
          "output_type": "display_data",
          "data": {
            "image/png": "[encoded data removed]",
            "text/plain": [
              "<Figure size 432x288 with 1 Axes>"
            ]
          },
          "metadata": {
            "tags": []
          }
        },
        {
          "output_type": "display_data",
          "data": {
            "image/png": "[encoded data removed]",
            "text/plain": [
              "<Figure size 432x288 with 1 Axes>"
            ]
          },
          "metadata": {
            "tags": []
          }
        }
      ]
    },
    {
      "cell_type": "markdown",
      "metadata": {
        "id": "RhCe6bOjP49Y"
      },
      "source": [
        "## Loading saved model and performing evaluation"
      ]
    },
    {
      "cell_type": "code",
      "metadata": {
        "colab": {
          "base_uri": "https://localhost:8080/"
        },
        "id": "H80Gky-IwVA1",
        "outputId": "34c3a7fb-3bca-4e5d-e065-8357b533d951"
      },
      "source": [
        "model = load_model('keras_model.h5')\n",
        "results = model.evaluate(x_test, y_test, verbose=1)"
      ],
      "execution_count": 38,
      "outputs": [
        {
          "output_type": "stream",
          "text": [
            "1202/1202 [==============================] - 2s 1ms/step - loss: 0.0328 - accuracy: 0.9927 - precision: 0.8671 - recall: 0.3460 - auc: 0.8598\n"
          ],
          "name": "stdout"
        }
      ]
    },
    {
      "cell_type": "code",
      "metadata": {
        "colab": {
          "base_uri": "https://localhost:8080/"
        },
        "id": "DkV8btIR7ZS4",
        "outputId": "94e61968-e658-4ceb-a485-7c21ec24d98f"
      },
      "source": [
        "print(f'Test accuracy: {results[1]*100}%, Test precision: {results[2]}, Test recall: {results[3]}, Test AUC: {results[4]}')"
      ],
      "execution_count": 39,
      "outputs": [
        {
          "output_type": "stream",
          "text": [
            "Test accuracy: 99.27172660827637%, Test precision: 0.8670886158943176, Test recall: 0.3459596037864685, Test AUC: 0.8598048686981201\n"
          ],
          "name": "stdout"
        }
      ]
    },
    {
      "cell_type": "markdown",
      "metadata": {
        "id": "c_BEeK_nP_-2"
      },
      "source": [
        "### Making predictions with saved model"
      ]
    },
    {
      "cell_type": "code",
      "metadata": {
        "colab": {
          "base_uri": "https://localhost:8080/"
        },
        "id": "aZVmifu2wZSX",
        "outputId": "c26efcc0-bffa-4ea1-a732-fcec7c3e0372"
      },
      "source": [
        "y_pred = model.predict_classes(x_test)\n",
        "target_names= ['Class 1(FAIL)', 'Class 0(NOT FAIL)']\n",
        "print(\"Confusion Matrix: \\n\", confusion_matrix(y_test, y_pred))\n",
        "print(classification_report(y_test, y_pred,target_names=target_names))"
      ],
      "execution_count": 40,
      "outputs": [
        {
          "output_type": "stream",
          "text": [
            "WARNING:tensorflow:From <ipython-input-40-5ddd23f9ed50>:1: Sequential.predict_classes (from tensorflow.python.keras.engine.sequential) is deprecated and will be removed after 2021-01-01.\n",
            "Instructions for updating:\n",
            "Please use instead:* `np.argmax(model.predict(x), axis=-1)`,   if your model does multi-class classification   (e.g. if it uses a `softmax` last-layer activation).* `(model.predict(x) > 0.5).astype(\"int32\")`,   if your model does binary classification   (e.g. if it uses a `sigmoid` last-layer activation).\n",
            "Confusion Matrix: \n",
            " [[38030    21]\n",
            " [  259   137]]\n",
            "                   precision    recall  f1-score   support\n",
            "\n",
            "    Class 1(FAIL)       0.99      1.00      1.00     38051\n",
            "Class 0(NOT FAIL)       0.87      0.35      0.49       396\n",
            "\n",
            "         accuracy                           0.99     38447\n",
            "        macro avg       0.93      0.67      0.75     38447\n",
            "     weighted avg       0.99      0.99      0.99     38447\n",
            "\n"
          ],
          "name": "stdout"
        }
      ]
    },
    {
      "cell_type": "markdown",
      "metadata": {
        "id": "waHqLMn5SB8y"
      },
      "source": [
        "# Demonstrative use of the models"
      ]
    },
    {
      "cell_type": "markdown",
      "metadata": {
        "id": "5uRn24NBXyBM"
      },
      "source": [
        "## Download the models trained above\n",
        "Incase you wish **not** to train them again"
      ]
    },
    {
      "cell_type": "markdown",
      "metadata": {
        "id": "5NlndDeFakrP"
      },
      "source": [
        "### Download XGB_model"
      ]
    },
    {
      "cell_type": "code",
      "metadata": {
        "id": "rDyHTZdYXlJW",
        "colab": {
          "base_uri": "https://localhost:8080/"
        },
        "outputId": "48b71bc0-09a2-4858-9e84-f1fab023bb36"
      },
      "source": [
        "%%bash\n",
        "wget https://bighome.iitb.ac.in/index.php/s/4iERSrpcp6iRAJn/download -O xgb.pickle.dat"
      ],
      "execution_count": 41,
      "outputs": [
        {
          "output_type": "stream",
          "text": [
            "--2020-12-17 16:46:46--  https://bighome.iitb.ac.in/index.php/s/4iERSrpcp6iRAJn/download\n",
            "Resolving bighome.iitb.ac.in (bighome.iitb.ac.in)... 103.21.126.131\n",
            "Connecting to bighome.iitb.ac.in (bighome.iitb.ac.in)|103.21.126.131|:443... connected.\n",
            "HTTP request sent, awaiting response... 200 OK\n",
            "Length: 34801 (34K) [application/octet-stream]\n",
            "Saving to: ‘xgb.pickle.dat’\n",
            "\n",
            "     0K .......... .......... .......... ...                  100%  131K=0.3s\n",
            "\n",
            "2020-12-17 16:46:48 (131 KB/s) - ‘xgb.pickle.dat’ saved [34801/34801]\n",
            "\n"
          ],
          "name": "stderr"
        }
      ]
    },
    {
      "cell_type": "markdown",
      "metadata": {
        "id": "7R0NePApatGr"
      },
      "source": [
        "### Download Keras model"
      ]
    },
    {
      "cell_type": "code",
      "metadata": {
        "colab": {
          "base_uri": "https://localhost:8080/"
        },
        "id": "P_mnuNTUatHL",
        "outputId": "f6b61340-b623-4b01-ba7f-2ed86a7ecbbe"
      },
      "source": [
        "%%bash\n",
        "wget https://bighome.iitb.ac.in/index.php/s/YwspfCWcNnRETAg/download -O keras_model.h5"
      ],
      "execution_count": 42,
      "outputs": [
        {
          "output_type": "stream",
          "text": [
            "--2020-12-17 16:46:51--  https://bighome.iitb.ac.in/index.php/s/YwspfCWcNnRETAg/download\n",
            "Resolving bighome.iitb.ac.in (bighome.iitb.ac.in)... 103.21.126.131\n",
            "Connecting to bighome.iitb.ac.in (bighome.iitb.ac.in)|103.21.126.131|:443... connected.\n",
            "HTTP request sent, awaiting response... 200 OK\n",
            "Length: 57832 (56K) [application/octet-stream]\n",
            "Saving to: ‘keras_model.h5’\n",
            "\n",
            "     0K .......... .......... .......... .......... .......... 88% 99.1K 0s\n",
            "    50K ......                                                100%  151M=0.5s\n",
            "\n",
            "2020-12-17 16:46:53 (112 KB/s) - ‘keras_model.h5’ saved [57832/57832]\n",
            "\n"
          ],
          "name": "stderr"
        }
      ]
    },
    {
      "cell_type": "markdown",
      "metadata": {
        "id": "esiFtTMkor0S"
      },
      "source": [
        "## Sample Test data in np array format\n",
        "Download for testing the below demo code"
      ]
    },
    {
      "cell_type": "code",
      "metadata": {
        "colab": {
          "base_uri": "https://localhost:8080/"
        },
        "id": "Li1zztTNoyaY",
        "outputId": "7a65f921-ed4b-4dcd-e118-c94768a11b1b"
      },
      "source": [
        "!wget https://bighome.iitb.ac.in/index.php/s/RB8spWCpzqoYiET/download -O x_test.npy\n",
        "x_test = np.load('./x_test.npy')"
      ],
      "execution_count": 60,
      "outputs": [
        {
          "output_type": "stream",
          "text": [
            "--2020-12-17 16:58:50--  https://bighome.iitb.ac.in/index.php/s/RB8spWCpzqoYiET/download\n",
            "Resolving bighome.iitb.ac.in (bighome.iitb.ac.in)... 103.21.126.131\n",
            "Connecting to bighome.iitb.ac.in (bighome.iitb.ac.in)|103.21.126.131|:443... connected.\n",
            "HTTP request sent, awaiting response... 200 OK\n",
            "Length: 4613768 (4.4M) [application/octet-stream]\n",
            "Saving to: ‘x_test.npy’\n",
            "\n",
            "x_test.npy          100%[===================>]   4.40M  2.17MB/s    in 2.0s    \n",
            "\n",
            "2020-12-17 16:58:53 (2.17 MB/s) - ‘x_test.npy’ saved [4613768/4613768]\n",
            "\n"
          ],
          "name": "stdout"
        }
      ]
    },
    {
      "cell_type": "markdown",
      "metadata": {
        "id": "m82K6zqFXmCS"
      },
      "source": [
        "## Function to use models trained above"
      ]
    },
    {
      "cell_type": "code",
      "metadata": {
        "id": "TdnRLa7fSKKX"
      },
      "source": [
        "import pickle\n",
        "from keras.models import load_model\n",
        "\n",
        "def predict_HDD_failure(load_file, x_test, model='XGBoost'):\n",
        "  \"\"\"\n",
        "  Returns the predicted status of the hard disk drive\n",
        "\n",
        "  inputs:\n",
        "    model -- ['XGBoost', 'NN'] (default: 'XGBoost')\n",
        "    load_file -- path to the model file on the disk. \n",
        "    x_test -- path to the numpy array of the data to predict on. Dataframe \n",
        "    should have the following columns: []\n",
        "\n",
        "  \"\"\"\n",
        "\n",
        "  if model=='XGBoost':\n",
        "    clf = pickle.load(open(load_file, \"rb\"))\n",
        "    y_pred = clf.predict(x_test)\n",
        "\n",
        "  elif model=='NN':\n",
        "    model = load_model(load_file)\n",
        "    y_pred = model.predict_classes(x_test).squeeze()\n",
        "\n",
        "  else:\n",
        "    raise NameError('This type of model is not supported yet!') \n",
        "\n",
        "  return y_pred"
      ],
      "execution_count": 53,
      "outputs": []
    },
    {
      "cell_type": "markdown",
      "metadata": {
        "id": "bEd62XqLbFF1"
      },
      "source": [
        "## Use function to get predictions"
      ]
    },
    {
      "cell_type": "code",
      "metadata": {
        "colab": {
          "base_uri": "https://localhost:8080/"
        },
        "id": "pjyKZnoZbEty",
        "outputId": "8f16696c-433f-46f7-ea9c-99761b9d8d2e"
      },
      "source": [
        "# XGB Demo\n",
        "prediction_array = predict_HDD_failure('./xgb.pickle.dat', x_test)\n",
        "print(prediction_array)"
      ],
      "execution_count": 51,
      "outputs": [
        {
          "output_type": "stream",
          "text": [
            "[16:50:00] WARNING: /workspace/src/objective/regression_obj.cu:152: reg:linear is now deprecated in favor of reg:squarederror.\n",
            "[0 0 0 ... 0 0 0]\n"
          ],
          "name": "stdout"
        }
      ]
    },
    {
      "cell_type": "code",
      "metadata": {
        "colab": {
          "base_uri": "https://localhost:8080/"
        },
        "id": "zflRpZK9mv7X",
        "outputId": "85023923-72dd-42e1-acd4-046405c1b0e1"
      },
      "source": [
        "# NN Demo\n",
        "prediction_array = predict_HDD_failure('./keras_model.h5', x_test, model='NN')\n",
        "print(prediction_array)"
      ],
      "execution_count": 61,
      "outputs": [
        {
          "output_type": "stream",
          "text": [
            "[0 0 0 ... 0 0 0]\n"
          ],
          "name": "stdout"
        }
      ]
    }
  ]
}